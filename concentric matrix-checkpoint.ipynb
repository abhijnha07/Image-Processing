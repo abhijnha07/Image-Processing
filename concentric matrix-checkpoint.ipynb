{
 "cells": [
  {
   "cell_type": "code",
   "execution_count": 1,
   "metadata": {},
   "outputs": [
    {
     "name": "stdout",
     "output_type": "stream",
     "text": [
      "3 3 3 3 3 \n",
      "3 2 2 2 3 \n",
      "3 2 1 2 3 \n",
      "3 2 2 2 3 \n",
      "3 3 3 3 3 \n"
     ]
    }
   ],
   "source": [
    "# Python3 program for printing\n",
    "# the rectangular pattern\n",
    " \n",
    "# Function to print the pattern\n",
    "def printPattern(n):\n",
    " \n",
    "    arraySize = n * 2 - 1;\n",
    "    result = [[0 for x in range(arraySize)]\n",
    "                 for y in range(arraySize)];\n",
    "         \n",
    "    # Fill the values\n",
    "    for i in range(arraySize):\n",
    "        for j in range(arraySize):\n",
    "            if(abs(i - (arraySize // 2)) >\n",
    "               abs(j - (arraySize // 2))):\n",
    "                result[i][j] = abs(i - (arraySize // 2)) + 1;\n",
    "            else:\n",
    "                result[i][j] = abs(j - (arraySize // 2)) + 1;\n",
    "             \n",
    "    # Print the array\n",
    "    for i in range(arraySize):\n",
    "        for j in range(arraySize):\n",
    "            print(result[i][j], end = \" \");\n",
    "        print(\"\");\n",
    " \n",
    "# Driver Code\n",
    "n = 3;\n",
    " \n",
    "printPattern(n);"
   ]
  },
  {
   "cell_type": "code",
   "execution_count": null,
   "metadata": {},
   "outputs": [],
   "source": []
  }
 ],
 "metadata": {
  "kernelspec": {
   "display_name": "Python 3",
   "language": "python",
   "name": "python3"
  },
  "language_info": {
   "codemirror_mode": {
    "name": "ipython",
    "version": 3
   },
   "file_extension": ".py",
   "mimetype": "text/x-python",
   "name": "python",
   "nbconvert_exporter": "python",
   "pygments_lexer": "ipython3",
   "version": "3.8.5"
  }
 },
 "nbformat": 4,
 "nbformat_minor": 4
}
