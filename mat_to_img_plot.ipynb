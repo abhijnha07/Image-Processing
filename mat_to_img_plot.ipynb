{
 "cells": [
  {
   "cell_type": "code",
   "execution_count": 7,
   "metadata": {},
   "outputs": [
    {
     "data": {
      "image/png": "[encoded data removed]",
      "text/plain": [
       "<Figure size 432x288 with 1 Axes>"
      ]
     },
     "metadata": {
      "needs_background": "light"
     },
     "output_type": "display_data"
    }
   ],
   "source": [
    "from PIL import Image\n",
    "import numpy as np\n",
    "import matplotlib.pyplot as plt\n",
    "w, h = 600, 600\n",
    "data = np.zeros((h, w, 3), dtype=np.uint8)\n",
    "data[0:100, 0:100] = [255, 0, 0]\n",
    "data[100:200, 100:200] = [0,255, 0]\n",
    "data[200:300, 200:300] = [0, 0, 255]\n",
    "data[300:400, 300:400] = [255, 70, 0]\n",
    "data[400:500, 400:500] = [255,120, 0]\n",
    "data[500:600, 500:600] = [ 255, 255, 0]\n",
    "      #len     width\n",
    "img = Image.fromarray(data, 'RGB')\n",
    "plt.imshow(img)\n",
    "plt.axis(\"off\")\n",
    "plt.show()"
   ]
  },
  {
   "cell_type": "code",
   "execution_count": null,
   "metadata": {},
   "outputs": [],
   "source": []
  }
 ],
 "metadata": {
  "kernelspec": {
   "display_name": "Python 3",
   "language": "python",
   "name": "python3"
  },
  "language_info": {
   "codemirror_mode": {
    "name": "ipython",
    "version": 3
   },
   "file_extension": ".py",
   "mimetype": "text/x-python",
   "name": "python",
   "nbconvert_exporter": "python",
   "pygments_lexer": "ipython3",
   "version": "3.8.5"
  }
 },
 "nbformat": 4,
 "nbformat_minor": 4
}
