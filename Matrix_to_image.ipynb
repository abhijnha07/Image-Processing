{
 "cells": [
  {
   "cell_type": "code",
   "execution_count": 15,
   "metadata": {},
   "outputs": [],
   "source": [
    "from PIL import Image\n",
    "import numpy as np\n",
    "\n",
    "w, h = 512, 512\n",
    "data = np.zeros((h, w, 3), dtype=np.uint8)\n",
    "data[150:362, 150:362] = [255, 0, 0]\n",
    "      #len     width\n",
    "img = Image.fromarray(data, 'RGB')\n",
    "img.save('my.png')\n",
    "\n",
    "img.show()"
   ]
  },
  {
   "cell_type": "code",
   "execution_count": 2,
   "metadata": {},
   "outputs": [
    {
     "name": "stdout",
     "output_type": "stream",
     "text": [
      "The Shape of the image is: (600, 400, 3)\n",
      "The image as array is:\n",
      "[[[30 30 30]\n",
      "  [30 30 30]\n",
      "  [30 30 30]\n",
      "  ...\n",
      "  [31 30 28]\n",
      "  [31 30 28]\n",
      "  [31 30 28]]\n",
      "\n",
      " [[30 30 30]\n",
      "  [30 30 30]\n",
      "  [30 30 30]\n",
      "  ...\n",
      "  [32 31 29]\n",
      "  [32 31 29]\n",
      "  [32 31 29]]\n",
      "\n",
      " [[31 29 30]\n",
      "  [31 29 30]\n",
      "  [31 29 30]\n",
      "  ...\n",
      "  [33 32 30]\n",
      "  [33 32 30]\n",
      "  [33 32 30]]\n",
      "\n",
      " ...\n",
      "\n",
      " [[20 20 20]\n",
      "  [20 20 20]\n",
      "  [21 19 20]\n",
      "  ...\n",
      "  [48 39 32]\n",
      "  [48 39 32]\n",
      "  [48 39 32]]\n",
      "\n",
      " [[20 20 20]\n",
      "  [20 20 20]\n",
      "  [22 20 21]\n",
      "  ...\n",
      "  [44 37 31]\n",
      "  [44 37 31]\n",
      "  [44 37 31]]\n",
      "\n",
      " [[20 20 20]\n",
      "  [20 20 20]\n",
      "  [22 20 21]\n",
      "  ...\n",
      "  [42 35 29]\n",
      "  [41 34 28]\n",
      "  [41 34 28]]]\n"
     ]
    },
    {
     "ename": "AttributeError",
     "evalue": "module 'cv2.cv2' has no attribute 'show'",
     "output_type": "error",
     "traceback": [
      "\u001b[1;31m---------------------------------------------------------------------------\u001b[0m",
      "\u001b[1;31mAttributeError\u001b[0m                            Traceback (most recent call last)",
      "\u001b[1;32m<ipython-input-2-53403b1d2419>\u001b[0m in \u001b[0;36m<module>\u001b[1;34m\u001b[0m\n\u001b[0;32m      8\u001b[0m \u001b[1;33m\u001b[0m\u001b[0m\n\u001b[0;32m      9\u001b[0m \u001b[0mimg\u001b[0m\u001b[1;33m=\u001b[0m\u001b[0mcv2\u001b[0m\u001b[1;33m.\u001b[0m\u001b[0mimread\u001b[0m\u001b[1;33m(\u001b[0m\u001b[1;34m'cat.jpg'\u001b[0m\u001b[1;33m)\u001b[0m\u001b[1;33m\u001b[0m\u001b[1;33m\u001b[0m\u001b[0m\n\u001b[1;32m---> 10\u001b[1;33m \u001b[0mcv2\u001b[0m\u001b[1;33m.\u001b[0m\u001b[0mshow\u001b[0m\u001b[1;33m(\u001b[0m\u001b[1;33m)\u001b[0m\u001b[1;33m\u001b[0m\u001b[1;33m\u001b[0m\u001b[0m\n\u001b[0m\u001b[0;32m     11\u001b[0m \u001b[0mcv2\u001b[0m\u001b[1;33m.\u001b[0m\u001b[0mwaitKey\u001b[0m\u001b[1;33m(\u001b[0m\u001b[1;36m0\u001b[0m\u001b[1;33m)\u001b[0m\u001b[1;33m\u001b[0m\u001b[1;33m\u001b[0m\u001b[0m\n\u001b[0;32m     12\u001b[0m \u001b[1;33m\u001b[0m\u001b[0m\n",
      "\u001b[1;31mAttributeError\u001b[0m: module 'cv2.cv2' has no attribute 'show'"
     ]
    }
   ],
   "source": [
    "import cv2\n",
    "import numpy as np\n",
    "import matplotlib.image as image\n",
    "img=image.imread('cat.jpg')\n",
    "print('The Shape of the image is:',img.shape)\n",
    "print('The image as array is:')\n",
    "print(img)\n",
    "\n",
    "img=cv2.imread('cat.jpg')\n",
    "cv2.show()\n",
    "cv2.waitKey(0)\n",
    "\n"
   ]
  },
  {
   "cell_type": "code",
   "execution_count": null,
   "metadata": {},
   "outputs": [],
   "source": []
  }
 ],
 "metadata": {
  "kernelspec": {
   "display_name": "Python 3",
   "language": "python",
   "name": "python3"
  },
  "language_info": {
   "codemirror_mode": {
    "name": "ipython",
    "version": 3
   },
   "file_extension": ".py",
   "mimetype": "text/x-python",
   "name": "python",
   "nbconvert_exporter": "python",
   "pygments_lexer": "ipython3",
   "version": "3.8.5"
  }
 },
 "nbformat": 4,
 "nbformat_minor": 4
}
